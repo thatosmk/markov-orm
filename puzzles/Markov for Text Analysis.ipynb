{
 "cells": [
  {
   "cell_type": "markdown",
   "metadata": {},
   "source": [
    "# Markov text analysis"
   ]
  },
  {
   "cell_type": "code",
   "execution_count": 1,
   "metadata": {
    "collapsed": true
   },
   "outputs": [],
   "source": [
    "import numpy as np\n",
    "import string"
   ]
  },
  {
   "cell_type": "markdown",
   "metadata": {},
   "source": [
    "## Build a markov model, start of with a 26x26 transition matrix"
   ]
  },
  {
   "cell_type": "code",
   "execution_count": 20,
   "metadata": {},
   "outputs": [],
   "source": [
    "def markov(text, test):\n",
    "    # 26x26 matrix\n",
    "    m = np.zeros((26,26))\n",
    "\n",
    "    # grab a list of alphabets\n",
    "    alpha = list(string.ascii_lowercase)\n",
    "    # initialise the list that will count row transition matrices\n",
    "    counter_row = [0 for i in range(0,26)]\n",
    "\n",
    "    # build the transition matrix\n",
    "    # build the matrix M\n",
    "    # iterate through the text\n",
    "    for i in range(0, len(text)-1):\n",
    "        # find the adjacent letters in the text\n",
    "        x = text[i]\n",
    "        y = text[i+1]\n",
    "\n",
    "        # find the adjacent letters in the alphabet\n",
    "        if x in alpha and y in alpha:\n",
    "            x_i = alpha.index(x)\n",
    "            y_i = alpha.index(y)\n",
    "            \n",
    "            # update the transitional matrix\n",
    "            m[x_i][y_i] += 1\n",
    "    # count all the transitions and turn them into probabilities\n",
    "    for i in range(0,26):\n",
    "        for j in range(0,26):\n",
    "            counter_row[i] += m[i][j]\n",
    "\n",
    "    # now define matrix p, 26x26 and divide each of m[i][j] by counter[i] for\n",
    "    # all pairs of i,j, thus, p[i][j] gives the probability of making that\n",
    "    # transition from letter i to letter j\n",
    "    p = np.zeros((26,26))\n",
    "\n",
    "    for i in range(0,26):\n",
    "        for j in range(0,26):\n",
    "            if counter_row[i] != 0:\n",
    "                p[i][j] = (m[i][j] / float(counter_row[i]))\n",
    "\n",
    "    # time to test the model\n",
    "    \n",
    "    # initialise score \n",
    "    score  = 0\n",
    "\n",
    "    # number of times we try to predict the letter\n",
    "    attempts = 0\n",
    "\n",
    "\n",
    "    for i in range(0, len(test) - 1):\n",
    "        x = test[i]\n",
    "        y = test[i+1]\n",
    "        \n",
    "        if x in alpha and y in alpha:\n",
    "            x_i = alpha.index(x)\n",
    "            y_i = alpha.index(y)\n",
    "            \n",
    "            # increment score and attempts\n",
    "            score += p[x_i][y_i]\n",
    "            \n",
    "            attempts += 1\n",
    "    # correct attempts, score/attempts\n",
    "    accuracy = score/float(attempts)\n",
    "    \n",
    "    return score, attempts, accuracy"
   ]
  },
  {
   "cell_type": "code",
   "execution_count": 21,
   "metadata": {},
   "outputs": [
    {
     "name": "stdout",
     "output_type": "stream",
     "text": [
      "(47.088261414405608, 177, 0.26603537522263054)\n"
     ]
    }
   ],
   "source": [
    "# init the text\n",
    "text = \"Alice was beginning to get very tired of sitting by her sister on the bank, and of having nothing to do: once or twice she had peeped into the book her sister was reading, but it had no pictures or conversations in it, and what is the use of a book, thought Alice without pictures or conversations\"\n",
    "test = text\n",
    "\n",
    "# run the function\n",
    "print markov(text,test)"
   ]
  },
  {
   "cell_type": "markdown",
   "metadata": {},
   "source": [
    "It is time to test the model"
   ]
  },
  {
   "cell_type": "code",
   "execution_count": null,
   "metadata": {
    "collapsed": true
   },
   "outputs": [],
   "source": []
  }
 ],
 "metadata": {
  "kernelspec": {
   "display_name": "Python [default]",
   "language": "python",
   "name": "python2"
  },
  "language_info": {
   "codemirror_mode": {
    "name": "ipython",
    "version": 2
   },
   "file_extension": ".py",
   "mimetype": "text/x-python",
   "name": "python",
   "nbconvert_exporter": "python",
   "pygments_lexer": "ipython2",
   "version": "2.7.14"
  }
 },
 "nbformat": 4,
 "nbformat_minor": 2
}
